{
 "cells": [
  {
   "cell_type": "markdown",
   "metadata": {},
   "source": [
    "## Question 1\n",
    "Be positive\n",
    "0.005 X 0.98 + 0.995 X 0.1 = 10.44%"
   ]
  },
  {
   "cell_type": "markdown",
   "metadata": {},
   "source": [
    "## Question 2\n",
    "Correctly diagnose a sufferer of Thripshaw's\n",
    "0.005 X 0.98 / 10.44% = 4.69%"
   ]
  },
  {
   "cell_type": "markdown",
   "metadata": {},
   "source": [
    "## Question 3\n",
    "Correctly identify a non-sufferer of Thripshaw's\n",
    "0.995 X 0.9 / (0.005 X 0.02 + 0.995 X 0.9) = 99.89%"
   ]
  },
  {
   "cell_type": "markdown",
   "metadata": {},
   "source": [
    "## Question 4\n",
    "Misclassify the person\n",
    "0.995 X 0.1 / 10.44% + 0.005 X 0.02 / 89.56% = 95.32%"
   ]
  }
 ],
 "metadata": {
  "kernelspec": {
   "display_name": "Python 3",
   "language": "python",
   "name": "python3"
  },
  "language_info": {
   "codemirror_mode": {
    "name": "ipython",
    "version": 3
   },
   "file_extension": ".py",
   "mimetype": "text/x-python",
   "name": "python",
   "nbconvert_exporter": "python",
   "pygments_lexer": "ipython3",
   "version": "3.7.0"
  }
 },
 "nbformat": 4,
 "nbformat_minor": 2
}
